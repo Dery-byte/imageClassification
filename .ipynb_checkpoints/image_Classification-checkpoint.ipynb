{
 "cells": [
  {
   "cell_type": "markdown",
   "metadata": {
    "colab_type": "text",
    "id": "view-in-github"
   },
   "source": [
    "<a href=\"https://colab.research.google.com/github/ShanmukhVegi/Image-Classification/blob/main/Shanmukh_Classification.ipynb\" target=\"_parent\"><img src=\"https://colab.research.google.com/assets/colab-badge.svg\" alt=\"Open In Colab\"/></a>"
   ]
  },
  {
   "cell_type": "markdown",
   "metadata": {
    "id": "uBajLXYrWBlo"
   },
   "source": [
    "Importing all the required packages"
   ]
  },
  {
   "cell_type": "code",
   "execution_count": 1,
   "metadata": {
    "id": "VgPd1fjcOKlg"
   },
   "outputs": [],
   "source": [
    "\n",
    "import pandas as pd\n",
    "from sklearn import svm\n",
    "from sklearn.model_selection import GridSearchCV\n",
    "import os\n",
    "import matplotlib.pyplot as plt\n",
    "from skimage.transform import resize\n",
    "from skimage.io import imread\n",
    "import numpy as np\n",
    "from sklearn.model_selection import train_test_split\n",
    "from sklearn.metrics import classification_report,accuracy_score,confusion_matrix\n",
    "import pickle\n",
    "\n"
   ]
  },
  {
   "cell_type": "markdown",
   "metadata": {
    "id": "i8zhtW8yz34D"
   },
   "source": [
    "**NOTE** : Please enter Category Names same as folder name"
   ]
  },
  {
   "cell_type": "code",
   "execution_count": null,
   "metadata": {
    "colab": {
     "base_uri": "https://localhost:8080/"
    },
    "id": "umZtNj4CTllG",
    "outputId": "6bd8a057-f089-41e9-e55e-ef7d8fe47639"
   },
   "outputs": [
    {
     "name": "stdout",
     "output_type": "stream",
     "text": [
      "Type y to give categories or type n to go with classification of Cars,Ice Cream cone and Cricket ball\n",
      "5\n",
      "Please give a valid input (y/n)\n"
     ]
    }
   ],
   "source": [
    "Categories=['Cars','Ice cream cone','Cricket ball']\n",
    "print(\"Type y to give categories or type n to go with classification of Cars,Ice Cream cone and Cricket ball\");\n",
    "\n",
    "while(True):\n",
    "  check=input()\n",
    "  if(check=='n' or check=='y'):\n",
    "    break\n",
    "  print(\"Please give a valid input (y/n)\")\n",
    "if(check=='y'):\n",
    "  print(\"Enter How Many types of Images do you want to classify\")\n",
    "  n=int(input())\n",
    "  Categories=[]\n",
    "  print(f'please enter {n} names')\n",
    "  for i in range(n):\n",
    "    name=input()\n",
    "    Categories.append(name)\n",
    "  print(f\"If not drive Please upload all the {n} category images in google collab with the same names as given in categories\")\n",
    "\n"
   ]
  },
  {
   "cell_type": "markdown",
   "metadata": {
    "id": "0wwiPscqYune"
   },
   "source": [
    "Loading all the images and creating a DataFrame\n",
    "\n",
    "If you have your images in your google drive, simply mount the google Drive and copy the path of the folder containing all the Category images and Change the datadir variable to that path"
   ]
  },
  {
   "cell_type": "code",
   "execution_count": null,
   "metadata": {
    "colab": {
     "base_uri": "https://localhost:8080/",
     "height": 531
    },
    "id": "XdGD-XpMYUjJ",
    "outputId": "d88292e8-0fd2-4c41-a485-c98045228f62"
   },
   "outputs": [],
   "source": [
    "flat_data_arr=[]\n",
    "target_arr=[]\n",
    "#please use datadir='/content' if the files are upload on to google collab\n",
    "#else mount the drive and give path of the parent-folder containing all category images folders.\n",
    "datadir='/content/drive/MyDrive/ML'\n",
    "for i in Categories:\n",
    "  print(f'loading... category : {i}')\n",
    "  path=os.path.join(datadir,i)\n",
    "  for img in os.listdir(path):\n",
    "    img_array=imread(os.path.join(path,img))\n",
    "    img_resized=resize(img_array,(150,150,3))\n",
    "    flat_data_arr.append(img_resized.flatten())\n",
    "    target_arr.append(Categories.index(i))\n",
    "  print(f'loaded category:{i} successfully')\n",
    "flat_data=np.array(flat_data_arr)\n",
    "target=np.array(target_arr)\n",
    "df=pd.DataFrame(flat_data)\n",
    "df['Target']=target\n",
    "df"
   ]
  },
  {
   "cell_type": "markdown",
   "metadata": {
    "id": "gUp5FDqIY070"
   },
   "source": [
    "Splitting the data into training and testing data"
   ]
  },
  {
   "cell_type": "code",
   "execution_count": null,
   "metadata": {
    "colab": {
     "base_uri": "https://localhost:8080/"
    },
    "id": "Jg3XHRP3OUyf",
    "outputId": "f9f0a456-8a4c-45e6-9b01-509d753139f2"
   },
   "outputs": [],
   "source": [
    "x=df.iloc[:,:-1]\n",
    "y=df.iloc[:,-1]\n",
    "x_train,x_test,y_train,y_test=train_test_split(x,y,test_size=0.20,random_state=77,stratify=y)\n",
    "print('Splitted Successfully')"
   ]
  },
  {
   "cell_type": "markdown",
   "metadata": {
    "id": "YMmSZWDJY_eE"
   },
   "source": [
    "This Part of code may take a while for training the data using SVC model"
   ]
  },
  {
   "cell_type": "code",
   "execution_count": null,
   "metadata": {
    "colab": {
     "base_uri": "https://localhost:8080/"
    },
    "id": "DIaIT2GlOvy6",
    "outputId": "47a22b93-17d2-4f2a-fb1f-a0e355551852"
   },
   "outputs": [],
   "source": [
    "param_grid={'C':[0.1,1,10,100],'gamma':[0.0001,0.001,0.1,1],'kernel':['rbf','poly']}\n",
    "svc=svm.SVC(probability=True)\n",
    "print(\"The training of the model is started, please wait for while as it may take few minutes to complete\")\n",
    "model=GridSearchCV(svc,param_grid)\n",
    "model.fit(x_train,y_train)\n",
    "print('The Model is trained well with the given images')\n",
    "model.best_params_"
   ]
  },
  {
   "cell_type": "markdown",
   "metadata": {
    "id": "VWKN2_4eZZmF"
   },
   "source": [
    "Predicting our testing data"
   ]
  },
  {
   "cell_type": "code",
   "execution_count": null,
   "metadata": {
    "colab": {
     "base_uri": "https://localhost:8080/"
    },
    "id": "h7qEbNLoSAcS",
    "outputId": "3c93b66c-9202-42ee-ae30-5cadea7f00ef"
   },
   "outputs": [],
   "source": [
    "y_pred=model.predict(x_test)\n",
    "print(\"The predicted Data is :\")\n",
    "y_pred"
   ]
  },
  {
   "cell_type": "code",
   "execution_count": null,
   "metadata": {
    "colab": {
     "base_uri": "https://localhost:8080/"
    },
    "id": "A4rMJQ0HSCgU",
    "outputId": "c5a922e2-4c75-4f95-96e3-bf9d6c9a7089"
   },
   "outputs": [],
   "source": [
    "print(\"The actual data is:\")\n",
    "np.array(y_test)"
   ]
  },
  {
   "cell_type": "code",
   "execution_count": null,
   "metadata": {
    "colab": {
     "base_uri": "https://localhost:8080/"
    },
    "id": "ZwXKKc5FSFMf",
    "outputId": "d6c6e632-2585-4405-87b6-4b2321e41298"
   },
   "outputs": [],
   "source": [
    "#classification_report(y_pred,y_test)\n",
    "print(f\"The model is {accuracy_score(y_pred,y_test)*100}% accurate\")\n",
    "#confusion_matrix(y_pred,y_test)"
   ]
  },
  {
   "cell_type": "markdown",
   "metadata": {
    "id": "B8rpwj-yX4hl"
   },
   "source": [
    "Using Pickle to save the model to disk"
   ]
  },
  {
   "cell_type": "code",
   "execution_count": null,
   "metadata": {
    "colab": {
     "base_uri": "https://localhost:8080/"
    },
    "id": "Jf8xp5BYp_7E",
    "outputId": "bb161fc8-afc1-4f80-87a6-c4859708c0fc"
   },
   "outputs": [],
   "source": [
    "pickle.dump(model,open('img_model.p','wb'))\n",
    "print(\"Pickle is dumped successfully\")"
   ]
  },
  {
   "cell_type": "markdown",
   "metadata": {
    "id": "D5j6KOPCZ8av"
   },
   "source": [
    "The Machine-Learning Based Model is Created Successfully. Now You can test for classification of any image which falls in the mentioned Categories\n",
    "\n",
    "Testing of model :"
   ]
  },
  {
   "cell_type": "code",
   "execution_count": null,
   "metadata": {
    "colab": {
     "base_uri": "https://localhost:8080/",
     "height": 427
    },
    "id": "6MVmsPLdS6-X",
    "outputId": "56a836cf-2eca-4111-d585-34697dd71db5"
   },
   "outputs": [],
   "source": [
    "#print(os.path.abspath(os.getcwd()))\n",
    "model=pickle.load(open('img_model.p','rb'))\n",
    "\n",
    "url=input('Enter URL of Image')\n",
    "img=imread(url)\n",
    "plt.imshow(img)\n",
    "plt.show()\n",
    "img_resize=resize(img,(150,150,3))\n",
    "l=[img_resize.flatten()]\n",
    "probability=model.predict_proba(l)\n",
    "for ind,val in enumerate(Categories):\n",
    "  print(f'{val} = {probability[0][ind]*100}%')\n",
    "print(\"The predicted image is : \"+Categories[model.predict(l)[0]])\n",
    "print(f'Is the image a {Categories[model.predict(l)[0]]} ?(y/n)')\n",
    "while(True):\n",
    "  b=input()\n",
    "  if(b==\"y\" or b==\"n\"):\n",
    "    break\n",
    "  print(\"please enter either y or n\")\n",
    "\n",
    "if(b=='n'):\n",
    "  print(\"What is the image?\")\n",
    "  for i in range(len(Categories)):\n",
    "    print(f\"Enter {i} for {Categories[i]}\")\n",
    "  k=int(input())\n",
    "  while(k<0 or k>=len(Categories)):\n",
    "    print(f\"Please enter a valid number between 0-{len(Categories)-1}\")\n",
    "    k=int(input())\n",
    "  print(\"Please wait for a while for the model to learn from this image :)\")\n",
    "  flat_arr=flat_data_arr.copy()\n",
    "  tar_arr=target_arr.copy()\n",
    "  tar_arr.append(k)\n",
    "  flat_arr.extend(l)\n",
    "  tar_arr=np.array(tar_arr)\n",
    "  flat_df=np.array(flat_arr)\n",
    "  df1=pd.DataFrame(flat_df)\n",
    "  df1['Target']=tar_arr\n",
    "  model1=GridSearchCV(svc,param_grid)\n",
    "  x1=df1.iloc[:,:-1]\n",
    "  y1=df1.iloc[:,-1]\n",
    "  x_train1,x_test1,y_train1,y_test1=train_test_split(x1,y1,test_size=0.20,random_state=77,stratify=y1)\n",
    "  d={}\n",
    "  for i in model.best_params_:\n",
    "    d[i]=[model.best_params_[i]]\n",
    "  model1=GridSearchCV(svc,d)\n",
    "  model1.fit(x_train1,y_train1)\n",
    "  y_pred1=model.predict(x_test1)\n",
    "  print(f\"The model is now {accuracy_score(y_pred1,y_test1)*100}% accurate\")\n",
    "  pickle.dump(model1,open('img_model.p','wb'))\n",
    "print(\"Thank you for your feedback\")\n"
   ]
  },
  {
   "cell_type": "markdown",
   "metadata": {
    "id": "fJ_t-zqIsTCA"
   },
   "source": [
    "This model learns from its mistake and rectifies them and does not repeat the same mistake again ;)"
   ]
  },
  {
   "cell_type": "code",
   "execution_count": null,
   "metadata": {},
   "outputs": [],
   "source": []
  },
  {
   "cell_type": "code",
   "execution_count": null,
   "metadata": {},
   "outputs": [],
   "source": []
  }
 ],
 "metadata": {
  "colab": {
   "authorship_tag": "ABX9TyNXoByyuzJc8pEa+Ia/zOiv",
   "include_colab_link": true,
   "mount_file_id": "1f0XtS7FMhgrj2FnqPssOI3tsovKoVeXM",
   "name": "Shanmukh-Classification.ipynb",
   "provenance": [],
   "toc_visible": true
  },
  "kernelspec": {
   "display_name": "Python 3 (ipykernel)",
   "language": "python",
   "name": "python3"
  },
  "language_info": {
   "codemirror_mode": {
    "name": "ipython",
    "version": 3
   },
   "file_extension": ".py",
   "mimetype": "text/x-python",
   "name": "python",
   "nbconvert_exporter": "python",
   "pygments_lexer": "ipython3",
   "version": "3.11.5"
  }
 },
 "nbformat": 4,
 "nbformat_minor": 1
}
